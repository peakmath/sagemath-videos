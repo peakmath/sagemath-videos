{
 "cells": [
  {
   "cell_type": "code",
   "execution_count": 4,
   "metadata": {
    "slideshow": {
     "slide_type": "skip"
    }
   },
   "outputs": [],
   "source": [
    "%run ./CardDisplay.ipynb"
   ]
  },
  {
   "cell_type": "markdown",
   "metadata": {
    "slideshow": {
     "slide_type": "slide"
    }
   },
   "source": [
    "# Arithmetic on shapes\n",
    "These are the cards you will need:"
   ]
  },
  {
   "cell_type": "code",
   "execution_count": 2,
   "metadata": {
    "slideshow": {
     "slide_type": "skip"
    }
   },
   "outputs": [],
   "source": [
    "integer_cards_you_will_need = displaycards([\n",
    "    (\"Addition\", \"Integer Operation\", \"4 + 7 = 11\"),\n",
    "    (\"Multiplication\", \"Integer Operation\", \"4 × 7 = 28\"),\n",
    "    (\"Two\", \"Integer Example\", \"\"),\n",
    "])"
   ]
  },
  {
   "cell_type": "raw",
   "metadata": {
    "slideshow": {
     "slide_type": "fragment"
    }
   },
   "source": [
    "integer_cards_you_will_need"
   ]
  },
  {
   "cell_type": "code",
   "execution_count": 5,
   "metadata": {
    "slideshow": {
     "slide_type": "skip"
    }
   },
   "outputs": [],
   "source": [
    "shape_cards_you_will_need = displaycards([\n",
    "    (\"The circle\", \"Shape Example\", \"A full circle, as an abstract shape\"),\n",
    "    (\"The line segment\", \"Shape Example\", \"Two points connected by a line\"),\n",
    "])"
   ]
  },
  {
   "cell_type": "code",
   "execution_count": 6,
   "metadata": {
    "slideshow": {
     "slide_type": "slide"
    }
   },
   "outputs": [
    {
     "data": {
      "text/html": [
       "<div style=\"white-space: nowrap\"><?xml version=\"1.0\" encoding=\"UTF-8\" standalone=\"no\"?>\n",
       "<svg\n",
       "   xmlns:dc=\"http://purl.org/dc/elements/1.1/\"\n",
       "   xmlns:cc=\"http://creativecommons.org/ns#\"\n",
       "   xmlns:rdf=\"http://www.w3.org/1999/02/22-rdf-syntax-ns#\"\n",
       "   xmlns:svg=\"http://www.w3.org/2000/svg\"\n",
       "   xmlns=\"http://www.w3.org/2000/svg\"\n",
       "   xmlns:xlink=\"http://www.w3.org/1999/xlink\"\n",
       "   xmlns:sodipodi=\"http://sodipodi.sourceforge.net/DTD/sodipodi-0.dtd\"\n",
       "   xmlns:inkscape=\"http://www.inkscape.org/namespaces/inkscape\"\n",
       "   width=\"200\"\n",
       "   height=\"250\"\n",
       "   viewBox=\"0 0 52.916666 66.145833\"\n",
       "   version=\"1.1\"\n",
       "   id=\"svg8\"\n",
       "   inkscape:version=\"1.0.2 (1.0.2+r75+1)\"\n",
       "   sodipodi:docname=\"card.svg\">\n",
       "  <defs\n",
       "     id=\"defs2\">\n",
       "    <linearGradient\n",
       "       inkscape:collect=\"always\"\n",
       "       id=\"linearGradient931\">\n",
       "      <stop\n",
       "         style=\"stop-color:#d6edff;stop-opacity:1\"\n",
       "         offset=\"0\"\n",
       "         id=\"stop927\" />\n",
       "      <stop\n",
       "         style=\"stop-color:#96c6ea;stop-opacity:1\"\n",
       "         offset=\"1\"\n",
       "         id=\"stop929\" />\n",
       "    </linearGradient>\n",
       "    <linearGradient\n",
       "       inkscape:collect=\"always\"\n",
       "       id=\"linearGradient925\">\n",
       "      <stop\n",
       "         style=\"stop-color:#376654;stop-opacity:1\"\n",
       "         offset=\"0\"\n",
       "         id=\"stop921\" />\n",
       "      <stop\n",
       "         style=\"stop-color:#96eac9;stop-opacity:1\"\n",
       "         offset=\"1\"\n",
       "         id=\"stop923\" />\n",
       "    </linearGradient>\n",
       "    <linearGradient\n",
       "       inkscape:collect=\"always\"\n",
       "       id=\"linearGradient869\">\n",
       "      <stop\n",
       "         style=\"stop-color:#856bb1;stop-opacity:1;\"\n",
       "         offset=\"0\"\n",
       "         id=\"stop865\" />\n",
       "      <stop\n",
       "         style=\"stop-color:#b596ea;stop-opacity:1\"\n",
       "         offset=\"1\"\n",
       "         id=\"stop867\" />\n",
       "    </linearGradient>\n",
       "    <radialGradient\n",
       "       inkscape:collect=\"always\"\n",
       "       xlink:href=\"#linearGradient931\"\n",
       "       id=\"radialGradient871\"\n",
       "       cx=\"7.4388361\"\n",
       "       cy=\"6.6145835\"\n",
       "       fx=\"7.4388361\"\n",
       "       fy=\"6.6145835\"\n",
       "       r=\"25.369514\"\n",
       "       gradientTransform=\"matrix(1,0,0,1.25,0,-8.2682292)\"\n",
       "       gradientUnits=\"userSpaceOnUse\" />\n",
       "    <radialGradient\n",
       "       inkscape:collect=\"always\"\n",
       "       xlink:href=\"#linearGradient925\"\n",
       "       id=\"radialGradient871-6\"\n",
       "       cx=\"26.458332\"\n",
       "       cy=\"33.072918\"\n",
       "       fx=\"26.458332\"\n",
       "       fy=\"33.072918\"\n",
       "       r=\"25.369514\"\n",
       "       gradientTransform=\"matrix(3.7795276,0,0,4.7244094,-3.5756028e-6,-31.249998)\"\n",
       "       gradientUnits=\"userSpaceOnUse\" />\n",
       "    <radialGradient\n",
       "       inkscape:collect=\"always\"\n",
       "       xlink:href=\"#linearGradient869\"\n",
       "       id=\"radialGradient919\"\n",
       "       gradientUnits=\"userSpaceOnUse\"\n",
       "       gradientTransform=\"matrix(3.7795276,0,0,4.7244094,-6.0953987e-6,-31.250001)\"\n",
       "       cx=\"26.458332\"\n",
       "       cy=\"33.072918\"\n",
       "       fx=\"26.458332\"\n",
       "       fy=\"33.072918\"\n",
       "       r=\"25.369514\" />\n",
       "  </defs>\n",
       "  <sodipodi:namedview\n",
       "     id=\"base\"\n",
       "     pagecolor=\"#ffffff\"\n",
       "     bordercolor=\"#666666\"\n",
       "     borderopacity=\"1.0\"\n",
       "     inkscape:pageopacity=\"0.0\"\n",
       "     inkscape:pageshadow=\"2\"\n",
       "     inkscape:zoom=\"1.979899\"\n",
       "     inkscape:cx=\"68.257086\"\n",
       "     inkscape:cy=\"134.28932\"\n",
       "     inkscape:document-units=\"mm\"\n",
       "     inkscape:current-layer=\"layer2\"\n",
       "     inkscape:document-rotation=\"0\"\n",
       "     showgrid=\"false\"\n",
       "     units=\"px\"\n",
       "     inkscape:snap-page=\"true\"\n",
       "     inkscape:window-width=\"1853\"\n",
       "     inkscape:window-height=\"1145\"\n",
       "     inkscape:window-x=\"1987\"\n",
       "     inkscape:window-y=\"27\"\n",
       "     inkscape:window-maximized=\"1\" />\n",
       "  <metadata\n",
       "     id=\"metadata5\">\n",
       "    <rdf:RDF>\n",
       "      <cc:Work\n",
       "         rdf:about=\"\">\n",
       "        <dc:format>image/svg+xml</dc:format>\n",
       "        <dc:type\n",
       "           rdf:resource=\"http://purl.org/dc/dcmitype/StillImage\" />\n",
       "        <dc:title></dc:title>\n",
       "      </cc:Work>\n",
       "    </rdf:RDF>\n",
       "  </metadata>\n",
       "  <g\n",
       "     inkscape:label=\"Background\"\n",
       "     inkscape:groupmode=\"layer\"\n",
       "     id=\"layer1\"\n",
       "     sodipodi:insensitive=\"true\">\n",
       "    <rect\n",
       "       style=\"fill:#404040;fill-opacity:1;stroke-width:0.529167;stroke-opacity:0.997199\"\n",
       "       id=\"rect833\"\n",
       "       width=\"52.916668\"\n",
       "       height=\"66.145836\"\n",
       "       x=\"0\"\n",
       "       y=\"0\"\n",
       "       ry=\"5.6577363\" />\n",
       "    <rect\n",
       "       style=\"fill:url(#radialGradient871);fill-opacity:1;stroke-width:0.50739;stroke-opacity:0.997199\"\n",
       "       id=\"rect833-3\"\n",
       "       width=\"50.739029\"\n",
       "       height=\"63.423786\"\n",
       "       x=\"1.0888189\"\n",
       "       y=\"1.3610235\"\n",
       "       ry=\"5.4249077\" />\n",
       "  </g>\n",
       "  <g\n",
       "     inkscape:groupmode=\"layer\"\n",
       "     id=\"layer2\"\n",
       "     inkscape:label=\"Sections\">\n",
       "    <path\n",
       "       id=\"rect833-3-3\"\n",
       "       style=\"fill:url(#radialGradient871-6);fill-opacity:1;stroke-width:1.91769;stroke-opacity:0.997199\"\n",
       "       d=\"m 195.88477,221.24023 -20.70313,4.51563 -60.10937,-17.16602 -37.392582,18.93946 -28.851563,-31.12891 -43.25,35.48438 c 2.995065,7.60085 10.351248,12.9707 19.041016,12.9707 H 175.38086 c 11.35899,0 20.50391,-9.14492 20.50391,-20.50391 z\"\n",
       "       transform=\"scale(0.26458333)\" />\n",
       "    <path\n",
       "       id=\"path914\"\n",
       "       style=\"fill:url(#radialGradient919);fill-opacity:1;stroke-width:1.91769;stroke-opacity:0.997199\"\n",
       "       d=\"M 135.17969 5.1445312 C 148.6773 22.389486 168.60815 39.923095 195.88477 53.285156 L 195.88477 25.648438 C 195.88477 14.289448 186.73985 5.1445313 175.38086 5.1445312 L 135.17969 5.1445312 z \"\n",
       "       transform=\"scale(0.26458333)\" />\n",
       "    <text\n",
       "       xml:space=\"preserve\"\n",
       "       style=\"font-style:normal;font-variant:normal;font-weight:normal;font-stretch:normal;font-size:5.29167px;line-height:1.25;font-family:'Latin Modern Math';-inkscape-font-specification:'Latin Modern Math';text-align:center;letter-spacing:0px;word-spacing:0px;text-anchor:middle;white-space:pre;inline-size:45.6598;stroke-width:0.264583\"\n",
       "       x=\"26.444155\"\n",
       "       y=\"17.243769\"\n",
       "       id=\"text948\"><tspan\n",
       "         x=\"26.444155\"\n",
       "         y=\"17.243769\"><tspan\n",
       "           style=\"font-style:normal;font-variant:normal;font-weight:normal;font-stretch:normal;font-family:'Latin Modern Math';-inkscape-font-specification:'Latin Modern Math';stroke-width:0.264583\">The circle</tspan></tspan></text>\n",
       "    <text\n",
       "       xml:space=\"preserve\"\n",
       "       style=\"font-style:normal;font-variant:normal;font-weight:normal;font-stretch:normal;font-size:3.70417px;line-height:1.25;font-family:'Latin Modern Math';-inkscape-font-specification:'Latin Modern Math';text-align:center;letter-spacing:0px;word-spacing:0px;text-anchor:middle;white-space:pre;inline-size:45.6598;stroke-width:0.264583\"\n",
       "       x=\"26.444155\"\n",
       "       y=\"17.243769\"\n",
       "       id=\"text948-8\"\n",
       "       transform=\"translate(0.00504824,5.5050986)\"><tspan\n",
       "         x=\"26.444155\"\n",
       "         y=\"17.243769\"><tspan\n",
       "           style=\"font-style:normal;font-variant:normal;font-weight:normal;font-stretch:normal;font-size:3.70417px;font-family:'Latin Modern Math';-inkscape-font-specification:'Latin Modern Math';stroke-width:0.264583\">Shape Example</tspan></tspan></text>\n",
       "    <text\n",
       "       xml:space=\"preserve\"\n",
       "       style=\"font-style:normal;font-variant:normal;font-weight:normal;font-stretch:normal;font-size:3.175px;line-height:1.25;font-family:'Latin Modern Math';-inkscape-font-specification:'Latin Modern Math';text-align:center;letter-spacing:0px;word-spacing:0px;text-anchor:middle;white-space:pre;inline-size:45.6598;stroke-width:0.264583;\"\n",
       "       x=\"26.444155\"\n",
       "       y=\"17.243769\"\n",
       "       id=\"text948-8-8\"\n",
       "       transform=\"translate(0.05754317,15.54272)\"><tspan\n",
       "         x=\"26.444155\"\n",
       "         y=\"17.243769\"><tspan\n",
       "           style=\"font-style:normal;font-variant:normal;font-weight:normal;font-stretch:normal;font-size:3.175px;font-family:'Latin Modern Math';-inkscape-font-specification:'Latin Modern Math';stroke-width:0.264583\">A full circle, as an abstract shape</tspan></tspan></text>\n",
       "  </g>\n",
       "</svg>\n",
       "<?xml version=\"1.0\" encoding=\"UTF-8\" standalone=\"no\"?>\n",
       "<svg\n",
       "   xmlns:dc=\"http://purl.org/dc/elements/1.1/\"\n",
       "   xmlns:cc=\"http://creativecommons.org/ns#\"\n",
       "   xmlns:rdf=\"http://www.w3.org/1999/02/22-rdf-syntax-ns#\"\n",
       "   xmlns:svg=\"http://www.w3.org/2000/svg\"\n",
       "   xmlns=\"http://www.w3.org/2000/svg\"\n",
       "   xmlns:xlink=\"http://www.w3.org/1999/xlink\"\n",
       "   xmlns:sodipodi=\"http://sodipodi.sourceforge.net/DTD/sodipodi-0.dtd\"\n",
       "   xmlns:inkscape=\"http://www.inkscape.org/namespaces/inkscape\"\n",
       "   width=\"200\"\n",
       "   height=\"250\"\n",
       "   viewBox=\"0 0 52.916666 66.145833\"\n",
       "   version=\"1.1\"\n",
       "   id=\"svg8\"\n",
       "   inkscape:version=\"1.0.2 (1.0.2+r75+1)\"\n",
       "   sodipodi:docname=\"card.svg\">\n",
       "  <defs\n",
       "     id=\"defs2\">\n",
       "    <linearGradient\n",
       "       inkscape:collect=\"always\"\n",
       "       id=\"linearGradient931\">\n",
       "      <stop\n",
       "         style=\"stop-color:#d6edff;stop-opacity:1\"\n",
       "         offset=\"0\"\n",
       "         id=\"stop927\" />\n",
       "      <stop\n",
       "         style=\"stop-color:#96c6ea;stop-opacity:1\"\n",
       "         offset=\"1\"\n",
       "         id=\"stop929\" />\n",
       "    </linearGradient>\n",
       "    <linearGradient\n",
       "       inkscape:collect=\"always\"\n",
       "       id=\"linearGradient925\">\n",
       "      <stop\n",
       "         style=\"stop-color:#376654;stop-opacity:1\"\n",
       "         offset=\"0\"\n",
       "         id=\"stop921\" />\n",
       "      <stop\n",
       "         style=\"stop-color:#96eac9;stop-opacity:1\"\n",
       "         offset=\"1\"\n",
       "         id=\"stop923\" />\n",
       "    </linearGradient>\n",
       "    <linearGradient\n",
       "       inkscape:collect=\"always\"\n",
       "       id=\"linearGradient869\">\n",
       "      <stop\n",
       "         style=\"stop-color:#856bb1;stop-opacity:1;\"\n",
       "         offset=\"0\"\n",
       "         id=\"stop865\" />\n",
       "      <stop\n",
       "         style=\"stop-color:#b596ea;stop-opacity:1\"\n",
       "         offset=\"1\"\n",
       "         id=\"stop867\" />\n",
       "    </linearGradient>\n",
       "    <radialGradient\n",
       "       inkscape:collect=\"always\"\n",
       "       xlink:href=\"#linearGradient931\"\n",
       "       id=\"radialGradient871\"\n",
       "       cx=\"7.4388361\"\n",
       "       cy=\"6.6145835\"\n",
       "       fx=\"7.4388361\"\n",
       "       fy=\"6.6145835\"\n",
       "       r=\"25.369514\"\n",
       "       gradientTransform=\"matrix(1,0,0,1.25,0,-8.2682292)\"\n",
       "       gradientUnits=\"userSpaceOnUse\" />\n",
       "    <radialGradient\n",
       "       inkscape:collect=\"always\"\n",
       "       xlink:href=\"#linearGradient925\"\n",
       "       id=\"radialGradient871-6\"\n",
       "       cx=\"26.458332\"\n",
       "       cy=\"33.072918\"\n",
       "       fx=\"26.458332\"\n",
       "       fy=\"33.072918\"\n",
       "       r=\"25.369514\"\n",
       "       gradientTransform=\"matrix(3.7795276,0,0,4.7244094,-3.5756028e-6,-31.249998)\"\n",
       "       gradientUnits=\"userSpaceOnUse\" />\n",
       "    <radialGradient\n",
       "       inkscape:collect=\"always\"\n",
       "       xlink:href=\"#linearGradient869\"\n",
       "       id=\"radialGradient919\"\n",
       "       gradientUnits=\"userSpaceOnUse\"\n",
       "       gradientTransform=\"matrix(3.7795276,0,0,4.7244094,-6.0953987e-6,-31.250001)\"\n",
       "       cx=\"26.458332\"\n",
       "       cy=\"33.072918\"\n",
       "       fx=\"26.458332\"\n",
       "       fy=\"33.072918\"\n",
       "       r=\"25.369514\" />\n",
       "  </defs>\n",
       "  <sodipodi:namedview\n",
       "     id=\"base\"\n",
       "     pagecolor=\"#ffffff\"\n",
       "     bordercolor=\"#666666\"\n",
       "     borderopacity=\"1.0\"\n",
       "     inkscape:pageopacity=\"0.0\"\n",
       "     inkscape:pageshadow=\"2\"\n",
       "     inkscape:zoom=\"1.979899\"\n",
       "     inkscape:cx=\"68.257086\"\n",
       "     inkscape:cy=\"134.28932\"\n",
       "     inkscape:document-units=\"mm\"\n",
       "     inkscape:current-layer=\"layer2\"\n",
       "     inkscape:document-rotation=\"0\"\n",
       "     showgrid=\"false\"\n",
       "     units=\"px\"\n",
       "     inkscape:snap-page=\"true\"\n",
       "     inkscape:window-width=\"1853\"\n",
       "     inkscape:window-height=\"1145\"\n",
       "     inkscape:window-x=\"1987\"\n",
       "     inkscape:window-y=\"27\"\n",
       "     inkscape:window-maximized=\"1\" />\n",
       "  <metadata\n",
       "     id=\"metadata5\">\n",
       "    <rdf:RDF>\n",
       "      <cc:Work\n",
       "         rdf:about=\"\">\n",
       "        <dc:format>image/svg+xml</dc:format>\n",
       "        <dc:type\n",
       "           rdf:resource=\"http://purl.org/dc/dcmitype/StillImage\" />\n",
       "        <dc:title></dc:title>\n",
       "      </cc:Work>\n",
       "    </rdf:RDF>\n",
       "  </metadata>\n",
       "  <g\n",
       "     inkscape:label=\"Background\"\n",
       "     inkscape:groupmode=\"layer\"\n",
       "     id=\"layer1\"\n",
       "     sodipodi:insensitive=\"true\">\n",
       "    <rect\n",
       "       style=\"fill:#404040;fill-opacity:1;stroke-width:0.529167;stroke-opacity:0.997199\"\n",
       "       id=\"rect833\"\n",
       "       width=\"52.916668\"\n",
       "       height=\"66.145836\"\n",
       "       x=\"0\"\n",
       "       y=\"0\"\n",
       "       ry=\"5.6577363\" />\n",
       "    <rect\n",
       "       style=\"fill:url(#radialGradient871);fill-opacity:1;stroke-width:0.50739;stroke-opacity:0.997199\"\n",
       "       id=\"rect833-3\"\n",
       "       width=\"50.739029\"\n",
       "       height=\"63.423786\"\n",
       "       x=\"1.0888189\"\n",
       "       y=\"1.3610235\"\n",
       "       ry=\"5.4249077\" />\n",
       "  </g>\n",
       "  <g\n",
       "     inkscape:groupmode=\"layer\"\n",
       "     id=\"layer2\"\n",
       "     inkscape:label=\"Sections\">\n",
       "    <path\n",
       "       id=\"rect833-3-3\"\n",
       "       style=\"fill:url(#radialGradient871-6);fill-opacity:1;stroke-width:1.91769;stroke-opacity:0.997199\"\n",
       "       d=\"m 195.88477,221.24023 -20.70313,4.51563 -60.10937,-17.16602 -37.392582,18.93946 -28.851563,-31.12891 -43.25,35.48438 c 2.995065,7.60085 10.351248,12.9707 19.041016,12.9707 H 175.38086 c 11.35899,0 20.50391,-9.14492 20.50391,-20.50391 z\"\n",
       "       transform=\"scale(0.26458333)\" />\n",
       "    <path\n",
       "       id=\"path914\"\n",
       "       style=\"fill:url(#radialGradient919);fill-opacity:1;stroke-width:1.91769;stroke-opacity:0.997199\"\n",
       "       d=\"M 135.17969 5.1445312 C 148.6773 22.389486 168.60815 39.923095 195.88477 53.285156 L 195.88477 25.648438 C 195.88477 14.289448 186.73985 5.1445313 175.38086 5.1445312 L 135.17969 5.1445312 z \"\n",
       "       transform=\"scale(0.26458333)\" />\n",
       "    <text\n",
       "       xml:space=\"preserve\"\n",
       "       style=\"font-style:normal;font-variant:normal;font-weight:normal;font-stretch:normal;font-size:5.29167px;line-height:1.25;font-family:'Latin Modern Math';-inkscape-font-specification:'Latin Modern Math';text-align:center;letter-spacing:0px;word-spacing:0px;text-anchor:middle;white-space:pre;inline-size:45.6598;stroke-width:0.264583\"\n",
       "       x=\"26.444155\"\n",
       "       y=\"17.243769\"\n",
       "       id=\"text948\"><tspan\n",
       "         x=\"26.444155\"\n",
       "         y=\"17.243769\"><tspan\n",
       "           style=\"font-style:normal;font-variant:normal;font-weight:normal;font-stretch:normal;font-family:'Latin Modern Math';-inkscape-font-specification:'Latin Modern Math';stroke-width:0.264583\">The line segment</tspan></tspan></text>\n",
       "    <text\n",
       "       xml:space=\"preserve\"\n",
       "       style=\"font-style:normal;font-variant:normal;font-weight:normal;font-stretch:normal;font-size:3.70417px;line-height:1.25;font-family:'Latin Modern Math';-inkscape-font-specification:'Latin Modern Math';text-align:center;letter-spacing:0px;word-spacing:0px;text-anchor:middle;white-space:pre;inline-size:45.6598;stroke-width:0.264583\"\n",
       "       x=\"26.444155\"\n",
       "       y=\"17.243769\"\n",
       "       id=\"text948-8\"\n",
       "       transform=\"translate(0.00504824,5.5050986)\"><tspan\n",
       "         x=\"26.444155\"\n",
       "         y=\"17.243769\"><tspan\n",
       "           style=\"font-style:normal;font-variant:normal;font-weight:normal;font-stretch:normal;font-size:3.70417px;font-family:'Latin Modern Math';-inkscape-font-specification:'Latin Modern Math';stroke-width:0.264583\">Shape Example</tspan></tspan></text>\n",
       "    <text\n",
       "       xml:space=\"preserve\"\n",
       "       style=\"font-style:normal;font-variant:normal;font-weight:normal;font-stretch:normal;font-size:3.175px;line-height:1.25;font-family:'Latin Modern Math';-inkscape-font-specification:'Latin Modern Math';text-align:center;letter-spacing:0px;word-spacing:0px;text-anchor:middle;white-space:pre;inline-size:45.6598;stroke-width:0.264583;\"\n",
       "       x=\"26.444155\"\n",
       "       y=\"17.243769\"\n",
       "       id=\"text948-8-8\"\n",
       "       transform=\"translate(0.05754317,15.54272)\"><tspan\n",
       "         x=\"26.444155\"\n",
       "         y=\"17.243769\"><tspan\n",
       "           style=\"font-style:normal;font-variant:normal;font-weight:normal;font-stretch:normal;font-size:3.175px;font-family:'Latin Modern Math';-inkscape-font-specification:'Latin Modern Math';stroke-width:0.264583\">Two points connected by a line</tspan></tspan></text>\n",
       "  </g>\n",
       "</svg>\n",
       "</div>"
      ],
      "text/plain": [
       "<IPython.core.display.HTML object>"
      ]
     },
     "execution_count": 6,
     "metadata": {},
     "output_type": "execute_result"
    }
   ],
   "source": [
    "shape_cards_you_will_need"
   ]
  },
  {
   "cell_type": "code",
   "execution_count": 2,
   "metadata": {
    "slideshow": {
     "slide_type": "skip"
    }
   },
   "outputs": [],
   "source": [
    "def ask(s):\n",
    "    return \"Yes, but that is topologically impossible\""
   ]
  },
  {
   "cell_type": "markdown",
   "metadata": {
    "slideshow": {
     "slide_type": "slide"
    }
   },
   "source": [
    "# Title\n",
    "\n",
    "$$\\int_0^1 t^{t^2} dt$$"
   ]
  },
  {
   "cell_type": "code",
   "execution_count": 3,
   "metadata": {
    "slideshow": {
     "slide_type": "fragment"
    }
   },
   "outputs": [
    {
     "data": {
      "text/plain": [
       "'Yes, but that is topologically impossible'"
      ]
     },
     "execution_count": 3,
     "metadata": {},
     "output_type": "execute_result"
    }
   ],
   "source": [
    "ask(\"Can we prove the Riemann hypothesis\")"
   ]
  },
  {
   "cell_type": "code",
   "execution_count": null,
   "metadata": {
    "slideshow": {
     "slide_type": "notes"
    }
   },
   "outputs": [],
   "source": [
    "Bare ikke glem å si at blah blah"
   ]
  },
  {
   "cell_type": "code",
   "execution_count": null,
   "metadata": {},
   "outputs": [],
   "source": []
  },
  {
   "cell_type": "code",
   "execution_count": null,
   "metadata": {},
   "outputs": [],
   "source": []
  },
  {
   "cell_type": "code",
   "execution_count": null,
   "metadata": {},
   "outputs": [],
   "source": []
  }
 ],
 "metadata": {
  "celltoolbar": "Slideshow",
  "kernelspec": {
   "display_name": "SageMath 9.5",
   "language": "sage",
   "name": "sagemath"
  },
  "language_info": {
   "codemirror_mode": {
    "name": "ipython",
    "version": 3
   },
   "file_extension": ".py",
   "mimetype": "text/x-python",
   "name": "python",
   "nbconvert_exporter": "python",
   "pygments_lexer": "ipython3",
   "version": "3.10.4"
  },
  "rise": {
   "enable_chalkboard": true,
   "theme": "moon"
  }
 },
 "nbformat": 4,
 "nbformat_minor": 2
}
