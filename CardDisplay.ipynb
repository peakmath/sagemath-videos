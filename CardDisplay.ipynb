{
 "cells": [
  {
   "cell_type": "code",
   "execution_count": null,
   "metadata": {},
   "outputs": [],
   "source": []
  },
  {
   "cell_type": "code",
   "execution_count": 1,
   "metadata": {},
   "outputs": [],
   "source": [
    "with open(\"card.svg\", \"r\") as file:\n",
    "    svg_text_old = file.read()"
   ]
  },
  {
   "cell_type": "code",
   "execution_count": 2,
   "metadata": {},
   "outputs": [],
   "source": [
    "with open(\"localcard.svg\", \"r\") as file:\n",
    "    svg_text_local = file.read()"
   ]
  },
  {
   "cell_type": "code",
   "execution_count": 3,
   "metadata": {},
   "outputs": [],
   "source": [
    "with open(\"globalcard.svg\", \"r\") as file:\n",
    "    svg_text_global = file.read()"
   ]
  },
  {
   "cell_type": "code",
   "execution_count": null,
   "metadata": {},
   "outputs": [],
   "source": []
  },
  {
   "cell_type": "code",
   "execution_count": 4,
   "metadata": {},
   "outputs": [],
   "source": [
    "from IPython.core.display import SVG, HTML"
   ]
  },
  {
   "cell_type": "code",
   "execution_count": null,
   "metadata": {},
   "outputs": [],
   "source": []
  },
  {
   "cell_type": "code",
   "execution_count": 5,
   "metadata": {},
   "outputs": [],
   "source": [
    "#svg_text"
   ]
  },
  {
   "cell_type": "code",
   "execution_count": 113,
   "metadata": {},
   "outputs": [],
   "source": [
    "\n",
    "_html_embed_template = '<span style=\"display: inline-block; width:{}\">{}</span>'\n",
    "\n",
    "def svg_to_fixed_width_html_image(svg, width=\"300px\"):\n",
    "    return _html_embed_template.format(width, svg)"
   ]
  },
  {
   "cell_type": "code",
   "execution_count": 1,
   "metadata": {},
   "outputs": [],
   "source": [
    "def displaycard_code_svg(name, is_global = False):\n",
    "    my_svg_text = svg_text_global if is_global else svg_text_local \n",
    "    my_svg_text = my_svg_text.replace(\"REPLACENAME\", name)\n",
    "    #my_svg_text = my_svg_text.replace(\"REPLACETYPE\", cardtype)\n",
    "    #my_svg_text = my_svg_text.replace(\"REPLACEBLURB\", blurb)\n",
    "    return my_svg_text"
   ]
  },
  {
   "cell_type": "code",
   "execution_count": 114,
   "metadata": {},
   "outputs": [],
   "source": [
    "def displaycard_code(name, is_global = False):\n",
    "    my_svg_text = svg_text_global if is_global else svg_text_local \n",
    "    my_svg_text = my_svg_text.replace(\"REPLACENAME\", name)\n",
    "    #my_svg_text = my_svg_text.replace(\"REPLACETYPE\", cardtype)\n",
    "    #my_svg_text = my_svg_text.replace(\"REPLACEBLURB\", blurb)\n",
    "    return svg_to_fixed_width_html_image(my_svg_text, width=\"300px\")"
   ]
  },
  {
   "cell_type": "code",
   "execution_count": null,
   "metadata": {},
   "outputs": [],
   "source": []
  },
  {
   "cell_type": "code",
   "execution_count": 99,
   "metadata": {},
   "outputs": [],
   "source": [
    "def displaycard(name, is_global = False):\n",
    "    return HTML(displaycard_code(name, is_global))"
   ]
  },
  {
   "cell_type": "code",
   "execution_count": null,
   "metadata": {},
   "outputs": [],
   "source": []
  },
  {
   "cell_type": "code",
   "execution_count": 100,
   "metadata": {},
   "outputs": [],
   "source": [
    "def displaycards(cards):\n",
    "    svgs = [displaycard_code(*card) for card in cards]\n",
    "    no_wrap_div1 = '<div style=\"white-space: nowrap\">'\n",
    "    no_wrap_div2 = '</div>'\n",
    "    return HTML(no_wrap_div1 + \"\".join(svgs) + no_wrap_div2)"
   ]
  },
  {
   "cell_type": "code",
   "execution_count": null,
   "metadata": {},
   "outputs": [],
   "source": []
  },
  {
   "cell_type": "code",
   "execution_count": 101,
   "metadata": {},
   "outputs": [],
   "source": [
    "def displaycard_code_old(name, cardtype, blurb):\n",
    "    my_svg_text = svg_text_old\n",
    "    my_svg_text = my_svg_text.replace(\"REPLACENAME\", name)\n",
    "    my_svg_text = my_svg_text.replace(\"REPLACETYPE\", cardtype)\n",
    "    my_svg_text = my_svg_text.replace(\"REPLACEBLURB\", blurb)\n",
    "    return my_svg_text"
   ]
  },
  {
   "cell_type": "code",
   "execution_count": null,
   "metadata": {},
   "outputs": [],
   "source": []
  },
  {
   "cell_type": "code",
   "execution_count": 102,
   "metadata": {},
   "outputs": [],
   "source": [
    "def displaycard_old(name, cardtype, blurb):\n",
    "    return SVG(displaycard_code_old(name, cardtype, blurb))"
   ]
  },
  {
   "cell_type": "code",
   "execution_count": null,
   "metadata": {},
   "outputs": [],
   "source": []
  },
  {
   "cell_type": "code",
   "execution_count": 103,
   "metadata": {},
   "outputs": [],
   "source": [
    "def displaycards_old(cards):\n",
    "    svgs = [displaycard_code_old(*card) for card in cards]\n",
    "    no_wrap_div1 = '<div style=\"white-space: nowrap\">'\n",
    "    no_wrap_div2 = '</div>'\n",
    "    return HTML(no_wrap_div1 + \"\".join(svgs) + no_wrap_div2)"
   ]
  },
  {
   "cell_type": "code",
   "execution_count": null,
   "metadata": {},
   "outputs": [],
   "source": []
  },
  {
   "cell_type": "code",
   "execution_count": 120,
   "metadata": {},
   "outputs": [],
   "source": [
    "#displaycards_old([(\"Addition\", \"Operation\", \"Here is some text that is barely readable and overflow\"), \n",
    "#(\"Addition 2\", \"Operation\", \"Here is some text that is \\nbarely readable and overflow\")])"
   ]
  },
  {
   "cell_type": "code",
   "execution_count": null,
   "metadata": {},
   "outputs": [],
   "source": []
  },
  {
   "cell_type": "code",
   "execution_count": 105,
   "metadata": {},
   "outputs": [],
   "source": [
    "# Font is only right inside RISE"
   ]
  },
  {
   "cell_type": "code",
   "execution_count": 118,
   "metadata": {},
   "outputs": [],
   "source": [
    "#displaycard(\"Addition\")"
   ]
  },
  {
   "cell_type": "code",
   "execution_count": null,
   "metadata": {},
   "outputs": [],
   "source": []
  },
  {
   "cell_type": "code",
   "execution_count": 117,
   "metadata": {},
   "outputs": [],
   "source": [
    "#displaycards([(\"Addition\", False), (\"Symmetry\", True)])"
   ]
  },
  {
   "cell_type": "code",
   "execution_count": null,
   "metadata": {},
   "outputs": [],
   "source": []
  }
 ],
 "metadata": {
  "kernelspec": {
   "display_name": "SageMath 9.5",
   "language": "sage",
   "name": "sagemath"
  },
  "language_info": {
   "codemirror_mode": {
    "name": "ipython",
    "version": 3
   },
   "file_extension": ".py",
   "mimetype": "text/x-python",
   "name": "python",
   "nbconvert_exporter": "python",
   "pygments_lexer": "ipython3",
   "version": "3.10.4"
  }
 },
 "nbformat": 4,
 "nbformat_minor": 2
}
