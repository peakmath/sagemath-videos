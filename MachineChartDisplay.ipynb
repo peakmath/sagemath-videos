{
 "cells": [
  {
   "cell_type": "code",
   "execution_count": null,
   "metadata": {},
   "outputs": [],
   "source": []
  },
  {
   "cell_type": "code",
   "execution_count": 162,
   "metadata": {},
   "outputs": [],
   "source": [
    "def create_connection_vwall(amt, cx, cy, mh):\n",
    "    return iter((cx, cy + mh * (n / (amt + 1) - 1/2)) for n in IntegerRange(1, amt + 1))"
   ]
  },
  {
   "cell_type": "code",
   "execution_count": null,
   "metadata": {},
   "outputs": [],
   "source": []
  },
  {
   "cell_type": "code",
   "execution_count": 163,
   "metadata": {},
   "outputs": [
    {
     "data": {
      "text/plain": [
       "[(0, 0)]"
      ]
     },
     "execution_count": 163,
     "metadata": {},
     "output_type": "execute_result"
    }
   ],
   "source": [
    "list(create_connection_vwall(1, 0, 0, 1))"
   ]
  },
  {
   "cell_type": "code",
   "execution_count": 164,
   "metadata": {},
   "outputs": [
    {
     "data": {
      "text/plain": [
       "[(0, -1/6), (0, 1/6)]"
      ]
     },
     "execution_count": 164,
     "metadata": {},
     "output_type": "execute_result"
    }
   ],
   "source": [
    "list(create_connection_vwall(2, 0, 0, 1))"
   ]
  },
  {
   "cell_type": "code",
   "execution_count": 165,
   "metadata": {},
   "outputs": [
    {
     "data": {
      "text/plain": [
       "[(0, -1/4), (0, 0), (0, 1/4)]"
      ]
     },
     "execution_count": 165,
     "metadata": {},
     "output_type": "execute_result"
    }
   ],
   "source": [
    "list(create_connection_vwall(3, 0, 0, 1))"
   ]
  },
  {
   "cell_type": "code",
   "execution_count": 166,
   "metadata": {},
   "outputs": [
    {
     "data": {
      "text/plain": [
       "[(0, -3/10), (0, -1/10), (0, 1/10), (0, 3/10)]"
      ]
     },
     "execution_count": 166,
     "metadata": {},
     "output_type": "execute_result"
    }
   ],
   "source": [
    "list(create_connection_vwall(4, 0, 0, 1))"
   ]
  },
  {
   "cell_type": "code",
   "execution_count": 167,
   "metadata": {},
   "outputs": [
    {
     "data": {
      "text/plain": [
       "[(0, -1/3), (0, -1/6), (0, 0), (0, 1/6), (0, 1/3)]"
      ]
     },
     "execution_count": 167,
     "metadata": {},
     "output_type": "execute_result"
    }
   ],
   "source": [
    "list(create_connection_vwall(5, 0, 0, 1))"
   ]
  },
  {
   "cell_type": "code",
   "execution_count": null,
   "metadata": {},
   "outputs": [],
   "source": []
  },
  {
   "cell_type": "code",
   "execution_count": null,
   "metadata": {},
   "outputs": [],
   "source": []
  },
  {
   "cell_type": "code",
   "execution_count": null,
   "metadata": {},
   "outputs": [],
   "source": []
  },
  {
   "cell_type": "code",
   "execution_count": 270,
   "metadata": {},
   "outputs": [],
   "source": [
    "class MachineChart:\n",
    "    \n",
    "    def __init__(self, nodes, connections, max_col, col_amts):\n",
    "        self.nodes = nodes\n",
    "        self.connections = connections\n",
    "        self.max_col = max_col\n",
    "        self.col_amts = col_amts\n",
    "    \n",
    "    def create_connection_graphics_obj_multiline(self, coords, color):\n",
    "        fig = Graphics()\n",
    "        \n",
    "        for i in range(len(coords) - 1):\n",
    "            x, y = coords[i]\n",
    "            nx, ny = coords[i + 1]\n",
    "            fig += line(((x, y), (nx, ny)), rgbcolor = color)\n",
    "        \n",
    "        return fig\n",
    "        \n",
    "    \n",
    "    def create_connection_graphics_obj(self, from_uid, to_uid, f, t, offset, color):\n",
    "        fx, fy = f\n",
    "        tx, ty = t\n",
    "        \n",
    "        fcol = self.nodes[from_uid][2][\"column\"]\n",
    "        tcol = self.nodes[to_uid][2][\"column\"]\n",
    "        \n",
    "        if fcol + 1 == tcol:\n",
    "            return self.create_connection_graphics_obj_multiline([(fx, fy), \n",
    "                                                                  (fx + 0.1 + offset, fy), \n",
    "                                                                  (fx + 0.1 + offset, ty), \n",
    "                                                                  (tx, ty)], color)\n",
    "        else:\n",
    "            passover_cols = list(range(fcol + 1, tcol))\n",
    "            \n",
    "            max_amt_rows = max(self.col_amts[i] for i in passover_cols)\n",
    "            \n",
    "            avoidanceY = sign(ty) * (max_amt_rows / 2  + 3 * offset)\n",
    "            return self.create_connection_graphics_obj_multiline([(fx, fy), \n",
    "                                                                  (fx + 0.1 + offset, fy), \n",
    "                                                                  (fx + 0.1 + offset, avoidanceY), \n",
    "                                                                  (tx - 0.1 - offset, avoidanceY), \n",
    "                                                                  (tx - 0.1 - offset, ty), \n",
    "                                                                  (tx, ty)], color)\n",
    "    \n",
    "    def show(self):\n",
    "        fig = Graphics()\n",
    "        \n",
    "        for uid in self.nodes:\n",
    "            text_v, tpe, kws = self.nodes[uid]\n",
    "            x = kws[\"column\"]\n",
    "            y = (self.col_amts[kws[\"column\"]] - 1) / 2 - kws[\"row\"]\n",
    "            kws[\"from_points\"] = create_connection_vwall(len(kws[\"outs\"]), x + 0.25, y, 0.25) #iter(len(kws[\"outs\"]) * [(kws[\"x\"], kws[\"y\"])])\n",
    "            kws[\"to_points\"] = create_connection_vwall(len(kws[\"ins\"]), x - 0.25, y, 0.25) #iter(len(kws[\"ins\"]) * [(kws[\"x\"], kws[\"y\"])])\n",
    "            s = 0.25\n",
    "            \n",
    "            coords = []\n",
    "            \n",
    "            if tpe == \"machine\":\n",
    "                coords = [(x - s, y - s), (x - s, y + s), (x + s, y + s), (x + s, y - s)]\n",
    "            elif tpe == \"input\":\n",
    "                coords = [(x - 2 * s, y), (x + s, y + s), (x + s, y - s)]\n",
    "            elif tpe == \"output\":\n",
    "                coords = [(x - s, y - s), (x - s, y + s), (x + 2 * s, y)]\n",
    "            \n",
    "            fig += polygon2d(coords, fill=False, rgbcolor=\"black\") #rect((kws[\"x\"], kws[\"y\"]), 0.25)\n",
    "            fig += text(text_v, (x, y), rgbcolor=\"black\", vertical_alignment=\"center\", horizontal_alignment=\"center\")\n",
    "        \n",
    "        \n",
    "        lc = len(self.connections)\n",
    "        \n",
    "        color_rotations = [\"blue\", \"red\", \"green\", \"orange\", \"cyan\", \"purple\"]\n",
    "        \n",
    "        for i, (from_uid, to_uid) in enumerate(self.connections):\n",
    "            fx, fy = next(self.nodes[from_uid][2][\"from_points\"])\n",
    "            tx, ty = next(self.nodes[to_uid][2][\"to_points\"])\n",
    "            \n",
    "            fig += self.create_connection_graphics_obj(from_uid, to_uid, (fx, fy), (tx, ty), 0.2 * i / lc, color_rotations[i % len(color_rotations)]) # line(((fx, fy), (tx, ty)))\n",
    "        \n",
    "        fig.axes(show = False)\n",
    "        \n",
    "        return fig\n",
    "    \n",
    "    def __repr__(self):\n",
    "        return repr((self.nodes, self.connections, self.max_col, self.col_amts))\n",
    "    "
   ]
  },
  {
   "cell_type": "code",
   "execution_count": null,
   "metadata": {},
   "outputs": [],
   "source": []
  },
  {
   "cell_type": "code",
   "execution_count": 271,
   "metadata": {},
   "outputs": [],
   "source": [
    "class MachineChartBuilder:\n",
    "    \n",
    "    def __init__(self):\n",
    "        self.nodes = {}\n",
    "        self.connections = []\n",
    "        pass\n",
    "    \n",
    "    def add_input(self, uid, text, **kws):\n",
    "        self.nodes[uid] = (text, \"input\", kws)\n",
    "        return self\n",
    "    \n",
    "    def add_machine(self, uid, text, **kws):\n",
    "        self.nodes[uid] = (text, \"machine\", kws)\n",
    "        return self\n",
    "        \n",
    "    def add_output(self, uid, text, **kws):\n",
    "        self.nodes[uid] = (text, \"output\", kws)\n",
    "        return self\n",
    "    \n",
    "    def connect(self, from_uid, to_uid):\n",
    "        if from_uid not in self.nodes or to_uid not in self.nodes:\n",
    "            raise ValueError(\"Cannot find uids \" + str((from_uid, to_uid)))\n",
    "        if self.nodes[to_uid][1] == \"input\":\n",
    "            raise ValueError(\"Cannot connect to input!\")\n",
    "        if self.nodes[from_uid][1] == \"output\":\n",
    "            raise ValueError(\"Cannot connect from output!\")\n",
    "            \n",
    "        self.connections.append((from_uid, to_uid))\n",
    "        \n",
    "        return self\n",
    "    \n",
    "    def build(self):\n",
    "        # Assign x's and y's and in_count and out_count to nodes\n",
    "        \n",
    "        for uid in self.nodes:\n",
    "            self.nodes[uid][2][\"ins\"] = []\n",
    "            self.nodes[uid][2][\"outs\"] = []\n",
    "            self.nodes[uid][2][\"column\"] = NaN\n",
    "        \n",
    "        for from_uid, to_uid in self.connections:\n",
    "            self.nodes[from_uid][2][\"outs\"].append(to_uid)\n",
    "            self.nodes[to_uid][2][\"ins\"].append(from_uid)\n",
    "        \n",
    "        for uid in self.nodes:\n",
    "            _, tpe, kws = self.nodes[uid]\n",
    "            \n",
    "            if tpe == \"input\" and len(kws[\"outs\"]) == 0:\n",
    "                raise ValueError(\"Every input must be connected to something!\")\n",
    "            \n",
    "            if tpe == \"output\" and len(kws[\"ins\"]) == 0:\n",
    "                raise ValueError(\"Every output must be connected to something!\")\n",
    "            \n",
    "            if tpe == \"machine\" and (len(kws[\"outs\"]) == 0 or len(kws[\"ins\"]) == 0):\n",
    "                raise ValueError(\"Every machine must have connections on both sides!\")\n",
    "        \n",
    "        remaining = list(self.nodes)\n",
    "        \n",
    "        max_col = 0\n",
    "        \n",
    "        while len(remaining) > 0:\n",
    "            uid = remaining.pop(0)\n",
    "            _, tpe, kws = self.nodes[uid]\n",
    "            if tpe == \"input\":\n",
    "                kws[\"column\"] = 0\n",
    "            else:\n",
    "                in_cols = [self.nodes[uid][2][\"column\"] for uid in kws[\"ins\"]]\n",
    "                if all(c != NaN for c in in_cols):\n",
    "                    ncol = max(in_cols) + 1\n",
    "                    kws[\"column\"] = ncol\n",
    "                    if ncol > max_col:\n",
    "                        max_col = ncol\n",
    "                else:\n",
    "                    remaining.append(uid)\n",
    "              \n",
    "        for uid in self.nodes:\n",
    "            _, tpe, kws = self.nodes[uid]\n",
    "            if tpe == \"output\":\n",
    "                kws[\"column\"] = max_col\n",
    "        \n",
    "        col_amts = {col: 0 for col in range(0, 1 + max_col)}\n",
    "        \n",
    "        for uid in self.nodes:\n",
    "            _, tpe, kws = self.nodes[uid]\n",
    "            kws[\"row\"] = col_amts[kws[\"column\"]]\n",
    "            col_amts[kws[\"column\"]] += 1\n",
    "                    \n",
    "        return MachineChart(self.nodes, self.connections, max_col, col_amts)\n",
    "    "
   ]
  },
  {
   "cell_type": "code",
   "execution_count": null,
   "metadata": {},
   "outputs": [],
   "source": []
  },
  {
   "cell_type": "code",
   "execution_count": 272,
   "metadata": {},
   "outputs": [
    {
     "data": {
      "image/png": "[encoded data removed]",
      "text/plain": [
       "Graphics object consisting of 46 graphics primitives"
      ]
     },
     "execution_count": 272,
     "metadata": {},
     "output_type": "execute_result"
    }
   ],
   "source": [
    "(MachineChartBuilder()\n",
    "    .add_input(\"i3\", \"8\")\n",
    "    .add_input(\"i1\", \"6\")\n",
    "    .add_input(\"i2\", \"7\")\n",
    "    .add_machine(\"m1\", \"+\")\n",
    "    .add_machine(\"m2\", \"-\")\n",
    "    .add_machine(\"m3\", r\"$\\times$\")\n",
    "    .add_machine(\"m4\", \"/\")\n",
    "    .add_output(\"o1\", \"9\")\n",
    "    .add_output(\"o2\", \"8\")\n",
    "    .connect(\"i2\", \"m1\")\n",
    "    .connect(\"i3\", \"m1\")\n",
    "    .connect(\"m1\", \"m2\")\n",
    "    .connect(\"i1\", \"o1\")\n",
    "    .connect(\"m2\", \"m4\")\n",
    "    .connect(\"i2\", \"m3\")\n",
    "    .connect(\"m3\", \"m4\")\n",
    "    .connect(\"m4\", \"o2\")\n",
    "    .build()).show()"
   ]
  },
  {
   "cell_type": "code",
   "execution_count": null,
   "metadata": {},
   "outputs": [],
   "source": []
  },
  {
   "cell_type": "code",
   "execution_count": 273,
   "metadata": {},
   "outputs": [
    {
     "data": {
      "image/png": "[encoded data removed]",
      "text/plain": [
       "Graphics object consisting of 55 graphics primitives"
      ]
     },
     "execution_count": 273,
     "metadata": {},
     "output_type": "execute_result"
    }
   ],
   "source": [
    "(MachineChartBuilder()\n",
    "    .add_input(\"x\", \"z\")\n",
    "    .add_input(\"y\", \"y\")\n",
    "    .add_input(\"z\", \"z\")\n",
    "    .add_machine(\"lm1\", \"+\")\n",
    "    .add_machine(\"lm2\", \"+\")\n",
    "    .add_machine(\"rm1\", \"+\")\n",
    "    .add_machine(\"rm2\", \"+\")\n",
    "    .add_machine(\"me\", \"=\")\n",
    "    .add_output(\"o\", \"True\")\n",
    "    .connect(\"x\", \"lm1\")\n",
    "    .connect(\"y\", \"lm1\")\n",
    "    .connect(\"lm1\", \"lm2\")\n",
    "    .connect(\"z\", \"lm2\")\n",
    "    .connect(\"x\", \"rm2\")\n",
    "    .connect(\"y\", \"rm1\")\n",
    "    .connect(\"z\", \"rm1\")\n",
    "    .connect(\"rm1\", \"rm2\")\n",
    "    .connect(\"lm2\", \"me\")\n",
    "    .connect(\"rm2\", \"me\")\n",
    "    .connect(\"me\", \"o\")\n",
    "    .build()).show()"
   ]
  },
  {
   "cell_type": "code",
   "execution_count": 275,
   "metadata": {},
   "outputs": [
    {
     "data": {
      "image/png": "[encoded data removed]",
      "text/plain": [
       "Graphics object consisting of 61 graphics primitives"
      ]
     },
     "execution_count": 275,
     "metadata": {},
     "output_type": "execute_result"
    }
   ],
   "source": [
    "(MachineChartBuilder()\n",
    "    .add_input(\"lz\", \"z\")\n",
    "    .add_input(\"ly\", \"y\")\n",
    "    .add_input(\"lx\", \"x\")\n",
    "    .add_input(\"rz\", \"z\")\n",
    "    .add_input(\"ry\", \"y\")\n",
    "    .add_input(\"rx\", \"x\")\n",
    "    .add_machine(\"lm1\", \"+\")\n",
    "    .add_machine(\"lm2\", \"+\")\n",
    "    .add_machine(\"rm1\", \"+\")\n",
    "    .add_machine(\"rm2\", \"+\")\n",
    "    .add_machine(\"me\", \"=\")\n",
    "    .add_output(\"o\", \"T\")\n",
    "    .connect(\"lx\", \"lm1\")\n",
    "    .connect(\"ly\", \"lm1\")\n",
    "    .connect(\"lm1\", \"lm2\")\n",
    "    .connect(\"lz\", \"lm2\")\n",
    "    .connect(\"rx\", \"rm2\")\n",
    "    .connect(\"ry\", \"rm1\")\n",
    "    .connect(\"rz\", \"rm1\")\n",
    "    .connect(\"rm1\", \"rm2\")\n",
    "    .connect(\"rm2\", \"me\")\n",
    "    .connect(\"lm2\", \"me\")\n",
    "    .connect(\"me\", \"o\")\n",
    "    .build()).show()"
   ]
  },
  {
   "cell_type": "code",
   "execution_count": null,
   "metadata": {},
   "outputs": [],
   "source": []
  },
  {
   "cell_type": "code",
   "execution_count": 279,
   "metadata": {},
   "outputs": [
    {
     "data": {
      "image/png": "[encoded data removed]",
      "text/plain": [
       "Graphics object consisting of 22 graphics primitives"
      ]
     },
     "execution_count": 279,
     "metadata": {},
     "output_type": "execute_result"
    }
   ],
   "source": [
    "(MachineChartBuilder()\n",
    "    .add_machine(\"me\", \"=\")\n",
    "    .add_input(\"x\", \"X\")\n",
    "    .add_machine(\"f\", \"F\")\n",
    "    .add_output(\"o\", \"Truth\")\n",
    "    .connect(\"x\", \"f\")\n",
    "    .connect(\"f\", \"me\")\n",
    "    .connect(\"x\", \"me\")\n",
    "    .connect(\"me\", \"o\")\n",
    "    .build()).show()"
   ]
  },
  {
   "cell_type": "code",
   "execution_count": null,
   "metadata": {},
   "outputs": [],
   "source": []
  },
  {
   "cell_type": "code",
   "execution_count": null,
   "metadata": {},
   "outputs": [],
   "source": []
  }
 ],
 "metadata": {
  "kernelspec": {
   "display_name": "SageMath 9.5",
   "language": "sage",
   "name": "sagemath"
  },
  "language_info": {
   "codemirror_mode": {
    "name": "ipython",
    "version": 3
   },
   "file_extension": ".py",
   "mimetype": "text/x-python",
   "name": "python",
   "nbconvert_exporter": "python",
   "pygments_lexer": "ipython3",
   "version": "3.10.4"
  }
 },
 "nbformat": 4,
 "nbformat_minor": 2
}
