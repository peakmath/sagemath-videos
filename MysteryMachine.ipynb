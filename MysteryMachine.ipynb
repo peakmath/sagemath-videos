{
 "cells": [
  {
   "cell_type": "markdown",
   "id": "756b94b2",
   "metadata": {},
   "source": [
    "# READ AT OWN RISK OF SPOILERS\n",
    "\n",
    "## Please do not distribute spoilers"
   ]
  },
  {
   "cell_type": "code",
   "execution_count": null,
   "id": "25d49855",
   "metadata": {},
   "outputs": [],
   "source": []
  },
  {
   "cell_type": "code",
   "execution_count": 1,
   "id": "8d3c4762",
   "metadata": {},
   "outputs": [],
   "source": [
    "%run ./Sequence.ipynb"
   ]
  },
  {
   "cell_type": "code",
   "execution_count": null,
   "id": "011b45df",
   "metadata": {},
   "outputs": [],
   "source": []
  },
  {
   "cell_type": "code",
   "execution_count": 2,
   "id": "1a85d306",
   "metadata": {},
   "outputs": [],
   "source": [
    "P.<x, y, h> = ProjectiveSpace(ZZ, 2)"
   ]
  },
  {
   "cell_type": "code",
   "execution_count": null,
   "id": "47c21906",
   "metadata": {},
   "outputs": [],
   "source": []
  },
  {
   "cell_type": "code",
   "execution_count": 3,
   "id": "93f60e8d",
   "metadata": {},
   "outputs": [],
   "source": [
    "class MysteryMachine:\n",
    "    \n",
    "    def __init__(self):\n",
    "        pass\n",
    "    \n",
    "    def __call__(self, prime, pol):\n",
    "        try:\n",
    "            curve = Curve((pol).homogenize(), P).change_ring(FiniteField(prime))\n",
    "            seq = create_sequence(lambda n: curve.change_ring(FiniteField(prime^n)).count_points(1)[0] if n > 0 else 1)\n",
    "            seq.to_list(6)\n",
    "            return seq\n",
    "        except:\n",
    "            print(\"Warning warning: The Singularity is Near\")\n",
    "            return create_sequence(lambda n: NaN)\n",
    "    \n",
    "    def __repr__(self):\n",
    "        return \"A mysterious machine... It seems to pair a prime and polynomial\"\n",
    "    "
   ]
  },
  {
   "cell_type": "code",
   "execution_count": null,
   "id": "eed85ef8",
   "metadata": {},
   "outputs": [],
   "source": []
  },
  {
   "cell_type": "code",
   "execution_count": 4,
   "id": "2f561f86",
   "metadata": {},
   "outputs": [],
   "source": [
    "mystery_machine = MysteryMachine()"
   ]
  },
  {
   "cell_type": "code",
   "execution_count": null,
   "id": "8057a7a2",
   "metadata": {},
   "outputs": [],
   "source": []
  },
  {
   "cell_type": "code",
   "execution_count": 9,
   "id": "3c40d9f3",
   "metadata": {},
   "outputs": [],
   "source": [
    "import random\n",
    "def defer_computation(ops):\n",
    "    r = 0\n",
    "    for i in range(floor(ops / 1000)):\n",
    "        r += random.randint(0, i)\n",
    "    "
   ]
  },
  {
   "cell_type": "code",
   "execution_count": null,
   "id": "a0cbb266",
   "metadata": {},
   "outputs": [],
   "source": []
  }
 ],
 "metadata": {
  "kernelspec": {
   "display_name": "SageMath 9.5",
   "language": "sage",
   "name": "sagemath"
  },
  "language_info": {
   "codemirror_mode": {
    "name": "ipython",
    "version": 3
   },
   "file_extension": ".py",
   "mimetype": "text/x-python",
   "name": "python",
   "nbconvert_exporter": "python",
   "pygments_lexer": "ipython3",
   "version": "3.10.4"
  }
 },
 "nbformat": 4,
 "nbformat_minor": 5
}
