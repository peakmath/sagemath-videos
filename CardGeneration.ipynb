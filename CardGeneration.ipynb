{
 "cells": [
  {
   "cell_type": "code",
   "execution_count": 19,
   "id": "dc2952e1",
   "metadata": {},
   "outputs": [],
   "source": [
    "card_text = r\"\"\"\n",
    "1729\n",
    "Googol\n",
    "563\n",
    "-163\n",
    "0\n",
    "299792458\n",
    "\n",
    "= Anti-examples =\n",
    "\n",
    "0.5\n",
    "-273.15\n",
    "pi\n",
    "e^(pi sqrt(163))\n",
    "\n",
    "\n",
    "\n",
    "= Mystery examples =\n",
    "\n",
    "pi^pi^pi^pi\n",
    "\n",
    "\n",
    "= Operations =\n",
    "\n",
    "Addition\n",
    "Multiplication\n",
    "Subtraction\n",
    "\n",
    "GCD\n",
    "LCM\n",
    "\n",
    "Exponentiation\n",
    "Tetration\n",
    "\n",
    "Integer quotient\n",
    "Remainder\n",
    "\n",
    "Binomial coefficient\n",
    "\n",
    "= Functions =\n",
    "\n",
    "Factorial\n",
    "Negation\n",
    "Square\n",
    "\n",
    "\\sigma_0 (the divisor function)\n",
    "\n",
    "= Representations =\n",
    "\n",
    "Roman numeral\n",
    "Binary \n",
    "Ternary\n",
    "Decimal\n",
    "Factored\n",
    "\n",
    "= Relations =\n",
    "\n",
    "< \n",
    "leq\n",
    ">\n",
    "geq\n",
    "\n",
    "Multiple\n",
    "Divisor\n",
    "\n",
    "Consecutive\n",
    "\n",
    "\n",
    "= Properties =\n",
    "\n",
    "Even\n",
    "Odd\n",
    "Positive\n",
    "Negative\n",
    "Prime\n",
    "Composite\n",
    "\"\"\""
   ]
  },
  {
   "cell_type": "code",
   "execution_count": null,
   "id": "a8861756",
   "metadata": {},
   "outputs": [],
   "source": []
  },
  {
   "cell_type": "code",
   "execution_count": 5,
   "id": "6c36b1a8",
   "metadata": {},
   "outputs": [
    {
     "name": "stdout",
     "output_type": "stream",
     "text": [
      "Skipping: \n",
      "Skipping: \n",
      "Skipping: = Anti-examples =\n",
      "Skipping: \n",
      "Skipping: \n",
      "Skipping: \n",
      "Skipping: \n",
      "Skipping: = Mystery examples =\n",
      "Skipping: \n",
      "Skipping: \n",
      "Skipping: \n",
      "Skipping: = Operations =\n",
      "Skipping: \n",
      "Skipping: \n",
      "Skipping: \n",
      "Skipping: \n",
      "Skipping: \n",
      "Skipping: \n",
      "Skipping: = Functions =\n",
      "Skipping: \n",
      "Skipping: \n",
      "Skipping: \n",
      "Skipping: = Representations =\n",
      "Skipping: \n",
      "Skipping: \n",
      "Skipping: = Relations =\n",
      "Skipping: \n",
      "Skipping: \n",
      "Skipping: \n",
      "Skipping: \n",
      "Skipping: \n",
      "Skipping: = Properties =\n",
      "Skipping: \n",
      "Skipping: \n"
     ]
    }
   ],
   "source": [
    "cards = []\n",
    "for line in card_text.split(\"\\n\"):\n",
    "    if line == \"\" or \"=\" in line:\n",
    "        print(\"Skipping:\", line)\n",
    "        continue\n",
    "    \n",
    "    cards.append(line)\n",
    "    "
   ]
  },
  {
   "cell_type": "code",
   "execution_count": null,
   "id": "94bfa334",
   "metadata": {},
   "outputs": [],
   "source": []
  },
  {
   "cell_type": "code",
   "execution_count": 11,
   "id": "949d9947",
   "metadata": {},
   "outputs": [
    {
     "data": {
      "text/plain": [
       "43"
      ]
     },
     "execution_count": 11,
     "metadata": {},
     "output_type": "execute_result"
    }
   ],
   "source": [
    "len(cards)"
   ]
  },
  {
   "cell_type": "code",
   "execution_count": null,
   "id": "8186df26",
   "metadata": {},
   "outputs": [],
   "source": []
  },
  {
   "cell_type": "code",
   "execution_count": 13,
   "id": "20a8e9c7",
   "metadata": {},
   "outputs": [],
   "source": [
    "%run ./CardDisplay.ipynb"
   ]
  },
  {
   "cell_type": "code",
   "execution_count": null,
   "id": "2f10ed4d",
   "metadata": {},
   "outputs": [],
   "source": []
  },
  {
   "cell_type": "code",
   "execution_count": 8,
   "id": "8362a91e",
   "metadata": {},
   "outputs": [],
   "source": [
    "cards1 = [(card, False) for card in cards]"
   ]
  },
  {
   "cell_type": "code",
   "execution_count": null,
   "id": "42a3b4b1",
   "metadata": {},
   "outputs": [],
   "source": []
  },
  {
   "cell_type": "code",
   "execution_count": 12,
   "id": "a35276dc",
   "metadata": {},
   "outputs": [],
   "source": [
    "#displaycards(cards1)"
   ]
  },
  {
   "cell_type": "code",
   "execution_count": 20,
   "id": "7660e153",
   "metadata": {},
   "outputs": [],
   "source": [
    "for n, card in enumerate(cards):\n",
    "    svg_raw = displaycard_code_svg(card)\n",
    "    path = \"./cards/card\" + str(n) + \".svg\"\n",
    "    \n",
    "    with open(path, \"w\") as file:\n",
    "        file.write(svg_raw)"
   ]
  },
  {
   "cell_type": "code",
   "execution_count": null,
   "id": "873a4688",
   "metadata": {},
   "outputs": [],
   "source": []
  },
  {
   "cell_type": "code",
   "execution_count": null,
   "id": "6b9dbc5b",
   "metadata": {},
   "outputs": [],
   "source": []
  }
 ],
 "metadata": {
  "kernelspec": {
   "display_name": "SageMath 9.5",
   "language": "sage",
   "name": "sagemath"
  },
  "language_info": {
   "codemirror_mode": {
    "name": "ipython",
    "version": 3
   },
   "file_extension": ".py",
   "mimetype": "text/x-python",
   "name": "python",
   "nbconvert_exporter": "python",
   "pygments_lexer": "ipython3",
   "version": "3.10.4"
  }
 },
 "nbformat": 4,
 "nbformat_minor": 5
}
